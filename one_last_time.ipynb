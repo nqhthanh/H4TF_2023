{
 "cells": [
  {
   "cell_type": "markdown",
   "metadata": {},
   "source": [
    "# Kiểm tra dữ liệu gốc (EDA)"
   ]
  },
  {
   "cell_type": "code",
   "execution_count": 1,
   "metadata": {},
   "outputs": [],
   "source": [
    "import pandas as pd\n",
    "df = pd.read_csv('bills.csv')"
   ]
  },
  {
   "cell_type": "code",
   "execution_count": 2,
   "metadata": {},
   "outputs": [
    {
     "data": {
      "text/plain": [
       "id                                     0\n",
       "customer_id                            0\n",
       "master_id                            150\n",
       "country_id                           308\n",
       "summary_grand_total                    0\n",
       "summary_discount_money                 0\n",
       "summary_xto_money                      0\n",
       "summary_ship_fee_phi_giao_hang         0\n",
       "to_user_location_province_id          28\n",
       "to_user_relationship_id              245\n",
       "to_user_occasion_id                  177\n",
       "to_user_relative_id                  739\n",
       "to_user_date_ngay_giao_hang            0\n",
       "create_info_created_ngay_dat_hang      0\n",
       "dtype: int64"
      ]
     },
     "execution_count": 2,
     "metadata": {},
     "output_type": "execute_result"
    }
   ],
   "source": [
    "df.isnull().sum()"
   ]
  },
  {
   "cell_type": "code",
   "execution_count": 3,
   "metadata": {},
   "outputs": [
    {
     "name": "stdout",
     "output_type": "stream",
     "text": [
      "<class 'pandas.core.frame.DataFrame'>\n",
      "RangeIndex: 6601 entries, 0 to 6600\n",
      "Data columns (total 14 columns):\n",
      " #   Column                             Non-Null Count  Dtype  \n",
      "---  ------                             --------------  -----  \n",
      " 0   id                                 6601 non-null   object \n",
      " 1   customer_id                        6601 non-null   object \n",
      " 2   master_id                          6451 non-null   object \n",
      " 3   country_id                         6293 non-null   object \n",
      " 4   summary_grand_total                6601 non-null   float64\n",
      " 5   summary_discount_money             6601 non-null   float64\n",
      " 6   summary_xto_money                  6601 non-null   float64\n",
      " 7   summary_ship_fee_phi_giao_hang     6601 non-null   float64\n",
      " 8   to_user_location_province_id       6573 non-null   object \n",
      " 9   to_user_relationship_id            6356 non-null   object \n",
      " 10  to_user_occasion_id                6424 non-null   object \n",
      " 11  to_user_relative_id                5862 non-null   object \n",
      " 12  to_user_date_ngay_giao_hang        6601 non-null   object \n",
      " 13  create_info_created_ngay_dat_hang  6601 non-null   object \n",
      "dtypes: float64(4), object(10)\n",
      "memory usage: 722.1+ KB\n"
     ]
    }
   ],
   "source": [
    "df.info()"
   ]
  },
  {
   "cell_type": "code",
   "execution_count": 4,
   "metadata": {},
   "outputs": [],
   "source": [
    "for column in df.columns.to_list():\n",
    "    if column == 'summary_xto_money':\n",
    "        df.loc[df[column] == 0, column] = df.loc[df[column] == 0, 'summary_grand_total'] * 0.11"
   ]
  },
  {
   "cell_type": "code",
   "execution_count": 5,
   "metadata": {},
   "outputs": [
    {
     "data": {
      "text/html": [
       "<div>\n",
       "<style scoped>\n",
       "    .dataframe tbody tr th:only-of-type {\n",
       "        vertical-align: middle;\n",
       "    }\n",
       "\n",
       "    .dataframe tbody tr th {\n",
       "        vertical-align: top;\n",
       "    }\n",
       "\n",
       "    .dataframe thead th {\n",
       "        text-align: right;\n",
       "    }\n",
       "</style>\n",
       "<table border=\"1\" class=\"dataframe\">\n",
       "  <thead>\n",
       "    <tr style=\"text-align: right;\">\n",
       "      <th></th>\n",
       "      <th>id</th>\n",
       "      <th>customer_id</th>\n",
       "      <th>master_id</th>\n",
       "      <th>country_id</th>\n",
       "      <th>summary_grand_total</th>\n",
       "      <th>summary_discount_money</th>\n",
       "      <th>summary_xto_money</th>\n",
       "      <th>summary_ship_fee_phi_giao_hang</th>\n",
       "      <th>to_user_location_province_id</th>\n",
       "      <th>to_user_relationship_id</th>\n",
       "      <th>to_user_occasion_id</th>\n",
       "      <th>to_user_relative_id</th>\n",
       "      <th>to_user_date_ngay_giao_hang</th>\n",
       "      <th>create_info_created_ngay_dat_hang</th>\n",
       "    </tr>\n",
       "  </thead>\n",
       "  <tbody>\n",
       "    <tr>\n",
       "      <th>0</th>\n",
       "      <td>5c2ca5fd819a4edc2e65eb36</td>\n",
       "      <td>5a5ea602652fe8de52ecb5cf</td>\n",
       "      <td>6066c157066c9a03055f2b10</td>\n",
       "      <td>MO</td>\n",
       "      <td>150000.0</td>\n",
       "      <td>0.0</td>\n",
       "      <td>16500.0</td>\n",
       "      <td>0.0</td>\n",
       "      <td>5016fd6b7f8b9ac842000000</td>\n",
       "      <td>62374aa42511770c643d9a3e</td>\n",
       "      <td>62b445e29612dcb691028846</td>\n",
       "      <td>62bc900756bcb11219006029</td>\n",
       "      <td>2019-01-09T02:00:00.000Z</td>\n",
       "      <td>2019-01-02T11:52:29.714Z</td>\n",
       "    </tr>\n",
       "    <tr>\n",
       "      <th>1</th>\n",
       "      <td>5c2f17cc819a4eb96065eb26</td>\n",
       "      <td>5c2f17cc819a4eb96065eb25</td>\n",
       "      <td>6066c157066c9a03055f2b10</td>\n",
       "      <td>VN</td>\n",
       "      <td>1350000.0</td>\n",
       "      <td>0.0</td>\n",
       "      <td>148500.0</td>\n",
       "      <td>0.0</td>\n",
       "      <td>5016fd6b7f8b9ac842000000</td>\n",
       "      <td>62374c93d092b077820bd62f</td>\n",
       "      <td>0</td>\n",
       "      <td>62bc701a56bcb11219005312</td>\n",
       "      <td>2019-01-05T00:00:00.000Z</td>\n",
       "      <td>2019-01-04T08:22:36.831Z</td>\n",
       "    </tr>\n",
       "    <tr>\n",
       "      <th>2</th>\n",
       "      <td>5c2c9162819a4e681965eb4f</td>\n",
       "      <td>5bf60ee0819a4e76518c6393</td>\n",
       "      <td>6066c157066c9a03055f2b10</td>\n",
       "      <td>VN</td>\n",
       "      <td>500000.0</td>\n",
       "      <td>0.0</td>\n",
       "      <td>55000.0</td>\n",
       "      <td>0.0</td>\n",
       "      <td>5016fd6b7f8b9ac842000000</td>\n",
       "      <td>62374af9d1578b0a925e404a</td>\n",
       "      <td>62374e382511770c643d9a5a</td>\n",
       "      <td>62bc730756bcb11219005467</td>\n",
       "      <td>2019-01-01T03:00:00.000Z</td>\n",
       "      <td>2019-01-02T10:24:34.952Z</td>\n",
       "    </tr>\n",
       "    <tr>\n",
       "      <th>3</th>\n",
       "      <td>5c2f2fad819a4e865065eb39</td>\n",
       "      <td>5a1cf33e652fe8c33d030d6f</td>\n",
       "      <td>6066c157066c9a03055f2b10</td>\n",
       "      <td>US</td>\n",
       "      <td>800000.0</td>\n",
       "      <td>0.0</td>\n",
       "      <td>88000.0</td>\n",
       "      <td>0.0</td>\n",
       "      <td>5016fd6b7f8b9ac842000000</td>\n",
       "      <td>62b43ee94a645a789f05dac2</td>\n",
       "      <td>62b44615e7faf931dd003dd6</td>\n",
       "      <td>62bc99f556bcb112190063f8</td>\n",
       "      <td>2019-01-07T02:00:00.000Z</td>\n",
       "      <td>2019-01-04T10:04:29.107Z</td>\n",
       "    </tr>\n",
       "    <tr>\n",
       "      <th>4</th>\n",
       "      <td>5c35b574819a4e314f76c332</td>\n",
       "      <td>597f4d5c652fe882468b590b</td>\n",
       "      <td>6066c157066c9a03055f2b10</td>\n",
       "      <td>IL</td>\n",
       "      <td>500000.0</td>\n",
       "      <td>0.0</td>\n",
       "      <td>55000.0</td>\n",
       "      <td>0.0</td>\n",
       "      <td>5016fd6b7f8b9ac842000000</td>\n",
       "      <td>62b43ee94a645a789f05dac2</td>\n",
       "      <td>0</td>\n",
       "      <td>62bca8b956bcb11219006a36</td>\n",
       "      <td>2019-01-10T02:00:00.000Z</td>\n",
       "      <td>2019-01-09T08:48:52.720Z</td>\n",
       "    </tr>\n",
       "  </tbody>\n",
       "</table>\n",
       "</div>"
      ],
      "text/plain": [
       "                         id               customer_id  \\\n",
       "0  5c2ca5fd819a4edc2e65eb36  5a5ea602652fe8de52ecb5cf   \n",
       "1  5c2f17cc819a4eb96065eb26  5c2f17cc819a4eb96065eb25   \n",
       "2  5c2c9162819a4e681965eb4f  5bf60ee0819a4e76518c6393   \n",
       "3  5c2f2fad819a4e865065eb39  5a1cf33e652fe8c33d030d6f   \n",
       "4  5c35b574819a4e314f76c332  597f4d5c652fe882468b590b   \n",
       "\n",
       "                  master_id country_id  summary_grand_total  \\\n",
       "0  6066c157066c9a03055f2b10         MO             150000.0   \n",
       "1  6066c157066c9a03055f2b10         VN            1350000.0   \n",
       "2  6066c157066c9a03055f2b10         VN             500000.0   \n",
       "3  6066c157066c9a03055f2b10         US             800000.0   \n",
       "4  6066c157066c9a03055f2b10         IL             500000.0   \n",
       "\n",
       "   summary_discount_money  summary_xto_money  summary_ship_fee_phi_giao_hang  \\\n",
       "0                     0.0            16500.0                             0.0   \n",
       "1                     0.0           148500.0                             0.0   \n",
       "2                     0.0            55000.0                             0.0   \n",
       "3                     0.0            88000.0                             0.0   \n",
       "4                     0.0            55000.0                             0.0   \n",
       "\n",
       "  to_user_location_province_id   to_user_relationship_id  \\\n",
       "0     5016fd6b7f8b9ac842000000  62374aa42511770c643d9a3e   \n",
       "1     5016fd6b7f8b9ac842000000  62374c93d092b077820bd62f   \n",
       "2     5016fd6b7f8b9ac842000000  62374af9d1578b0a925e404a   \n",
       "3     5016fd6b7f8b9ac842000000  62b43ee94a645a789f05dac2   \n",
       "4     5016fd6b7f8b9ac842000000  62b43ee94a645a789f05dac2   \n",
       "\n",
       "        to_user_occasion_id       to_user_relative_id  \\\n",
       "0  62b445e29612dcb691028846  62bc900756bcb11219006029   \n",
       "1                         0  62bc701a56bcb11219005312   \n",
       "2  62374e382511770c643d9a5a  62bc730756bcb11219005467   \n",
       "3  62b44615e7faf931dd003dd6  62bc99f556bcb112190063f8   \n",
       "4                         0  62bca8b956bcb11219006a36   \n",
       "\n",
       "  to_user_date_ngay_giao_hang create_info_created_ngay_dat_hang  \n",
       "0    2019-01-09T02:00:00.000Z          2019-01-02T11:52:29.714Z  \n",
       "1    2019-01-05T00:00:00.000Z          2019-01-04T08:22:36.831Z  \n",
       "2    2019-01-01T03:00:00.000Z          2019-01-02T10:24:34.952Z  \n",
       "3    2019-01-07T02:00:00.000Z          2019-01-04T10:04:29.107Z  \n",
       "4    2019-01-10T02:00:00.000Z          2019-01-09T08:48:52.720Z  "
      ]
     },
     "execution_count": 5,
     "metadata": {},
     "output_type": "execute_result"
    }
   ],
   "source": [
    "df.head()"
   ]
  },
  {
   "cell_type": "code",
   "execution_count": 6,
   "metadata": {},
   "outputs": [
    {
     "data": {
      "text/plain": [
       "0.12680976420668155"
      ]
     },
     "execution_count": 6,
     "metadata": {},
     "output_type": "execute_result"
    }
   ],
   "source": [
    "a = sum(df.summary_xto_money) / sum(df.summary_grand_total)\n",
    "a"
   ]
  },
  {
   "cell_type": "code",
   "execution_count": 7,
   "metadata": {},
   "outputs": [
    {
     "data": {
      "text/plain": [
       "id                                     0\n",
       "customer_id                            0\n",
       "master_id                            150\n",
       "country_id                           308\n",
       "summary_grand_total                    0\n",
       "summary_discount_money                 0\n",
       "summary_xto_money                      0\n",
       "summary_ship_fee_phi_giao_hang         0\n",
       "to_user_location_province_id          28\n",
       "to_user_relationship_id              245\n",
       "to_user_occasion_id                  177\n",
       "to_user_relative_id                  739\n",
       "to_user_date_ngay_giao_hang            0\n",
       "create_info_created_ngay_dat_hang      0\n",
       "dtype: int64"
      ]
     },
     "execution_count": 7,
     "metadata": {},
     "output_type": "execute_result"
    }
   ],
   "source": [
    "df.isnull().sum()"
   ]
  },
  {
   "cell_type": "code",
   "execution_count": 8,
   "metadata": {},
   "outputs": [],
   "source": [
    "for i in df.columns.to_list():\n",
    "    df[i].fillna('Undefined',inplace=True)"
   ]
  },
  {
   "cell_type": "code",
   "execution_count": 9,
   "metadata": {},
   "outputs": [
    {
     "data": {
      "text/plain": [
       "id                                   0\n",
       "customer_id                          0\n",
       "master_id                            0\n",
       "country_id                           0\n",
       "summary_grand_total                  0\n",
       "summary_discount_money               0\n",
       "summary_xto_money                    0\n",
       "summary_ship_fee_phi_giao_hang       0\n",
       "to_user_location_province_id         0\n",
       "to_user_relationship_id              0\n",
       "to_user_occasion_id                  0\n",
       "to_user_relative_id                  0\n",
       "to_user_date_ngay_giao_hang          0\n",
       "create_info_created_ngay_dat_hang    0\n",
       "dtype: int64"
      ]
     },
     "execution_count": 9,
     "metadata": {},
     "output_type": "execute_result"
    }
   ],
   "source": [
    "df.isnull().sum()"
   ]
  },
  {
   "cell_type": "code",
   "execution_count": 10,
   "metadata": {},
   "outputs": [],
   "source": [
    "df.to_csv('bills.csv')"
   ]
  },
  {
   "cell_type": "code",
   "execution_count": null,
   "metadata": {},
   "outputs": [],
   "source": []
  }
 ],
 "metadata": {
  "kernelspec": {
   "display_name": "Python 3",
   "language": "python",
   "name": "python3"
  },
  "language_info": {
   "codemirror_mode": {
    "name": "ipython",
    "version": 3
   },
   "file_extension": ".py",
   "mimetype": "text/x-python",
   "name": "python",
   "nbconvert_exporter": "python",
   "pygments_lexer": "ipython3",
   "version": "3.11.4"
  }
 },
 "nbformat": 4,
 "nbformat_minor": 2
}
